{
  "nbformat": 4,
  "nbformat_minor": 0,
  "metadata": {
    "colab": {
      "name": "Data-Prep.ipynb",
      "provenance": [],
      "private_outputs": true,
      "toc_visible": true,
      "authorship_tag": "ABX9TyO3c+QhE7vHg0acL0zpy0kt",
      "include_colab_link": true
    },
    "kernelspec": {
      "name": "python3",
      "display_name": "Python 3"
    }
  },
  "cells": [
    {
      "cell_type": "markdown",
      "metadata": {
        "id": "view-in-github",
        "colab_type": "text"
      },
      "source": [
        "<a href=\"https://colab.research.google.com/github/image0of0pie/machine-learning-projects/blob/master/Data_Prep.ipynb\" target=\"_parent\"><img src=\"https://colab.research.google.com/assets/colab-badge.svg\" alt=\"Open In Colab\"/></a>"
      ]
    },
    {
      "cell_type": "markdown",
      "metadata": {
        "id": "_AeZCE27dcZW",
        "colab_type": "text"
      },
      "source": [
        "# Mounting drive and importing libraries and model....."
      ]
    },
    {
      "cell_type": "code",
      "metadata": {
        "id": "cnQXNZzlbyD0",
        "colab_type": "code",
        "colab": {}
      },
      "source": [
        "from google.colab import drive\n",
        "drive.mount('/content/drive')"
      ],
      "execution_count": null,
      "outputs": []
    },
    {
      "cell_type": "code",
      "metadata": {
        "id": "cCqnY5zSc9aO",
        "colab_type": "code",
        "colab": {}
      },
      "source": [
        "import numpy as np\n",
        "import pandas as pd\n",
        "import matplotlib.pyplot as plt\n",
        "import timeit\n",
        "import tensorflow as tf\n",
        "import seaborn as sns\n",
        "from numpy import array\n",
        "from numpy import hstack\n",
        "from keras.models import Sequential\n",
        "from keras.layers import LSTM\n",
        "from keras.layers import Dense\n",
        "from keras.layers import RepeatVector\n",
        "from keras.layers import TimeDistributed"
      ],
      "execution_count": null,
      "outputs": []
    },
    {
      "cell_type": "code",
      "metadata": {
        "id": "B_S7Cf2hdbhL",
        "colab_type": "code",
        "colab": {}
      },
      "source": [
        "base_path=\"/content/drive/My Drive/Machine Learning Projects/Spatiotemporal forecasting using BLSTM+spatial interpolation/Data/\""
      ],
      "execution_count": null,
      "outputs": []
    },
    {
      "cell_type": "markdown",
      "metadata": {
        "id": "DFVtVqyvrlUY",
        "colab_type": "text"
      },
      "source": [
        "# Defining preprocessing fnc."
      ]
    },
    {
      "cell_type": "code",
      "metadata": {
        "id": "u7eODuMDrqep",
        "colab_type": "code",
        "colab": {}
      },
      "source": [
        ""
      ],
      "execution_count": null,
      "outputs": []
    },
    {
      "cell_type": "code",
      "metadata": {
        "id": "fvrnQijErqhj",
        "colab_type": "code",
        "colab": {}
      },
      "source": [
        ""
      ],
      "execution_count": null,
      "outputs": []
    },
    {
      "cell_type": "code",
      "metadata": {
        "id": "kiObKy0frqb7",
        "colab_type": "code",
        "colab": {}
      },
      "source": [
        ""
      ],
      "execution_count": null,
      "outputs": []
    },
    {
      "cell_type": "markdown",
      "metadata": {
        "id": "ExQpnVRsGOHN",
        "colab_type": "text"
      },
      "source": [
        "# Importing files"
      ]
    },
    {
      "cell_type": "code",
      "metadata": {
        "id": "Ed8SD7PaHO0o",
        "colab_type": "code",
        "colab": {}
      },
      "source": [
        "test=pd.read_excel(base_path+'Alipur.xlsx')\n",
        "test=test.iloc[1279:17495]\n",
        "test=test.reset_index()"
      ],
      "execution_count": null,
      "outputs": []
    },
    {
      "cell_type": "code",
      "metadata": {
        "id": "5zioQkn8Zrgz",
        "colab_type": "code",
        "colab": {}
      },
      "source": [
        ""
      ],
      "execution_count": null,
      "outputs": []
    },
    {
      "cell_type": "code",
      "metadata": {
        "id": "p_F6pnI_ZrnG",
        "colab_type": "code",
        "colab": {}
      },
      "source": [
        "COLUMNS=['From Date','To Date','PM2.5','PM10','NO','NO2']\n",
        "TRAIN_COLUMNS=['PM10','PM2.5','NO','NO2']\n",
        "final_data=pd.DataFrame()\n",
        "for col in COLUMNS:\n",
        "    final_data[col]=new_test[col]\n",
        "train_data=pd.DataFrame()\n",
        "for col in TRAIN_COLUMNS:\n",
        "    train_data[col]=new_test[col]"
      ],
      "execution_count": null,
      "outputs": []
    },
    {
      "cell_type": "code",
      "metadata": {
        "id": "-Z6vXe8WZrj7",
        "colab_type": "code",
        "colab": {}
      },
      "source": [
        "colormap = plt.cm.viridis\n",
        "plt.figure(figsize=(4,4))\n",
        "plt.title('Correlation of Pollutants', y=1.05, size=15)\n",
        "sns.heatmap(train_data.astype(float).corr(),vmax=1.0, square=True, cmap=colormap, annot=True)"
      ],
      "execution_count": null,
      "outputs": []
    },
    {
      "cell_type": "code",
      "metadata": {
        "id": "856YFHudZrda",
        "colab_type": "code",
        "colab": {}
      },
      "source": [
        ""
      ],
      "execution_count": null,
      "outputs": []
    },
    {
      "cell_type": "markdown",
      "metadata": {
        "id": "tQ6LP-pFd3ju",
        "colab_type": "text"
      },
      "source": [
        "# Test"
      ]
    },
    {
      "cell_type": "code",
      "metadata": {
        "id": "v8jJHQn9d5M_",
        "colab_type": "code",
        "colab": {}
      },
      "source": [
        "# split a multivariate sequence into samples\n",
        "def split_sequences(sequences, n_steps_in, n_steps_out):\n",
        "    X, y = list(), list()\n",
        "    for i in range(len(sequences)):\n",
        "        # find the end of this pattern\n",
        "        end_ix = i + n_steps_in\n",
        "        out_end_ix = end_ix + n_steps_out\n",
        "        # check if we are beyond the dataset\n",
        "        if out_end_ix>len(sequences):\n",
        "            break\n",
        "        seq_x, seq_y = sequences[i:end_ix, :], sequences[end_ix:out_end_ix, :]\n",
        "        X.append(seq_x)\n",
        "        y.append(seq_y)\n",
        "    return array(X), array(y)"
      ],
      "execution_count": null,
      "outputs": []
    },
    {
      "cell_type": "code",
      "metadata": {
        "id": "lHhAPQIpd5TG",
        "colab_type": "code",
        "colab": {}
      },
      "source": [
        "in_seq1 = array([10, 20, 30, 40, 50, 60, 70, 80, 90])\n",
        "in_seq2 = array([15, 25, 35, 45, 55, 65, 75, 85, 95])\n",
        "out_seq = array([in_seq1[i]+in_seq2[i] for i in range(len(in_seq1))])"
      ],
      "execution_count": null,
      "outputs": []
    },
    {
      "cell_type": "code",
      "metadata": {
        "id": "hj_NSKLtd5WX",
        "colab_type": "code",
        "colab": {}
      },
      "source": [
        "in_seq1 = in_seq1.reshape((len(in_seq1), 1))\n",
        "in_seq2 = in_seq2.reshape((len(in_seq2), 1))\n",
        "out_seq = out_seq.reshape((len(out_seq), 1))"
      ],
      "execution_count": null,
      "outputs": []
    },
    {
      "cell_type": "code",
      "metadata": {
        "id": "jK7DDKtLd5QQ",
        "colab_type": "code",
        "colab": {}
      },
      "source": [
        "dataset = hstack((in_seq1, in_seq2, out_seq))"
      ],
      "execution_count": null,
      "outputs": []
    },
    {
      "cell_type": "code",
      "metadata": {
        "id": "uwsv4MFcd5KP",
        "colab_type": "code",
        "colab": {}
      },
      "source": [
        "n_steps_in, n_steps_out = 3, 2\n",
        "# covert into input/output\n",
        "X, y = split_sequences(dataset, n_steps_in, n_steps_out)\n",
        "# the dataset knows the number of features, e.g. 2\n",
        "n_features = X.shape[2]"
      ],
      "execution_count": null,
      "outputs": []
    },
    {
      "cell_type": "code",
      "metadata": {
        "id": "RRWHCNVkfDxy",
        "colab_type": "code",
        "colab": {}
      },
      "source": [
        "model = Sequential()\n",
        "model.add(LSTM(200, activation='relu', input_shape=(n_steps_in, n_features)))\n",
        "model.add(RepeatVector(n_steps_out))\n",
        "model.add(LSTM(200, activation='relu', return_sequences=True))\n",
        "model.add(TimeDistributed(Dense(n_features)))\n",
        "model.compile(optimizer='adam', loss='mse')"
      ],
      "execution_count": null,
      "outputs": []
    },
    {
      "cell_type": "code",
      "metadata": {
        "id": "cEQ3V6qpfD5k",
        "colab_type": "code",
        "colab": {}
      },
      "source": [
        "history=model.fit(X,y,epochs=300)"
      ],
      "execution_count": null,
      "outputs": []
    },
    {
      "cell_type": "code",
      "metadata": {
        "id": "stXl481QfD2P",
        "colab_type": "code",
        "colab": {}
      },
      "source": [
        ""
      ],
      "execution_count": null,
      "outputs": []
    },
    {
      "cell_type": "code",
      "metadata": {
        "id": "-Y47gRCCfD0w",
        "colab_type": "code",
        "colab": {}
      },
      "source": [
        ""
      ],
      "execution_count": null,
      "outputs": []
    },
    {
      "cell_type": "code",
      "metadata": {
        "id": "9PKo3tK6fDuf",
        "colab_type": "code",
        "colab": {}
      },
      "source": [
        ""
      ],
      "execution_count": null,
      "outputs": []
    }
  ]
}